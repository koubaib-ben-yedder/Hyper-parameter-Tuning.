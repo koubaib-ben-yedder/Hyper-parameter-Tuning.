{
 "cells": [
  {
   "cell_type": "code",
   "id": "initial_id",
   "metadata": {
    "collapsed": true,
    "ExecuteTime": {
     "end_time": "2024-09-28T14:13:53.009908Z",
     "start_time": "2024-09-28T14:13:53.006081Z"
    }
   },
   "source": [
    "from sklearn.model_selection import  RandomizedSearchCV, GridSearchCV,train_test_split\n",
    "from sklearn import datasets\n",
    "import pandas as pd\n",
    "from sklearn.linear_model import LogisticRegression\n",
    "from sklearn.naive_bayes import MultinomialNB\n",
    "from sklearn.svm import SVC\n",
    "from sklearn.tree import DecisionTreeClassifier\n",
    "from sklearn.ensemble import RandomForestClassifier\n",
    "from sklearn.neighbors import KNeighborsClassifier\n",
    "from sklearn.linear_model import SGDClassifier"
   ],
   "outputs": [],
   "execution_count": 78
  },
  {
   "metadata": {
    "ExecuteTime": {
     "end_time": "2024-09-28T14:13:53.040926Z",
     "start_time": "2024-09-28T14:13:53.036524Z"
    }
   },
   "cell_type": "code",
   "source": "iris = datasets.load_iris()",
   "id": "83f265db1b7ddce7",
   "outputs": [],
   "execution_count": 79
  },
  {
   "metadata": {
    "ExecuteTime": {
     "end_time": "2024-09-28T14:13:53.045502Z",
     "start_time": "2024-09-28T14:13:53.041934Z"
    }
   },
   "cell_type": "code",
   "source": [
    "df=pd.DataFrame(iris.data,columns=iris.feature_names)\n",
    "df['target'] = iris.target"
   ],
   "id": "769ce9f45c64fb66",
   "outputs": [],
   "execution_count": 80
  },
  {
   "metadata": {
    "ExecuteTime": {
     "end_time": "2024-09-28T14:13:53.056180Z",
     "start_time": "2024-09-28T14:13:53.046516Z"
    }
   },
   "cell_type": "code",
   "source": "df.head()",
   "id": "cf571d3da85ecd68",
   "outputs": [
    {
     "data": {
      "text/plain": [
       "   sepal length (cm)  sepal width (cm)  petal length (cm)  petal width (cm)  \\\n",
       "0                5.1               3.5                1.4               0.2   \n",
       "1                4.9               3.0                1.4               0.2   \n",
       "2                4.7               3.2                1.3               0.2   \n",
       "3                4.6               3.1                1.5               0.2   \n",
       "4                5.0               3.6                1.4               0.2   \n",
       "\n",
       "   target  \n",
       "0       0  \n",
       "1       0  \n",
       "2       0  \n",
       "3       0  \n",
       "4       0  "
      ],
      "text/html": [
       "<div>\n",
       "<style scoped>\n",
       "    .dataframe tbody tr th:only-of-type {\n",
       "        vertical-align: middle;\n",
       "    }\n",
       "\n",
       "    .dataframe tbody tr th {\n",
       "        vertical-align: top;\n",
       "    }\n",
       "\n",
       "    .dataframe thead th {\n",
       "        text-align: right;\n",
       "    }\n",
       "</style>\n",
       "<table border=\"1\" class=\"dataframe\">\n",
       "  <thead>\n",
       "    <tr style=\"text-align: right;\">\n",
       "      <th></th>\n",
       "      <th>sepal length (cm)</th>\n",
       "      <th>sepal width (cm)</th>\n",
       "      <th>petal length (cm)</th>\n",
       "      <th>petal width (cm)</th>\n",
       "      <th>target</th>\n",
       "    </tr>\n",
       "  </thead>\n",
       "  <tbody>\n",
       "    <tr>\n",
       "      <th>0</th>\n",
       "      <td>5.1</td>\n",
       "      <td>3.5</td>\n",
       "      <td>1.4</td>\n",
       "      <td>0.2</td>\n",
       "      <td>0</td>\n",
       "    </tr>\n",
       "    <tr>\n",
       "      <th>1</th>\n",
       "      <td>4.9</td>\n",
       "      <td>3.0</td>\n",
       "      <td>1.4</td>\n",
       "      <td>0.2</td>\n",
       "      <td>0</td>\n",
       "    </tr>\n",
       "    <tr>\n",
       "      <th>2</th>\n",
       "      <td>4.7</td>\n",
       "      <td>3.2</td>\n",
       "      <td>1.3</td>\n",
       "      <td>0.2</td>\n",
       "      <td>0</td>\n",
       "    </tr>\n",
       "    <tr>\n",
       "      <th>3</th>\n",
       "      <td>4.6</td>\n",
       "      <td>3.1</td>\n",
       "      <td>1.5</td>\n",
       "      <td>0.2</td>\n",
       "      <td>0</td>\n",
       "    </tr>\n",
       "    <tr>\n",
       "      <th>4</th>\n",
       "      <td>5.0</td>\n",
       "      <td>3.6</td>\n",
       "      <td>1.4</td>\n",
       "      <td>0.2</td>\n",
       "      <td>0</td>\n",
       "    </tr>\n",
       "  </tbody>\n",
       "</table>\n",
       "</div>"
      ]
     },
     "execution_count": 81,
     "metadata": {},
     "output_type": "execute_result"
    }
   ],
   "execution_count": 81
  },
  {
   "metadata": {
    "ExecuteTime": {
     "end_time": "2024-09-28T14:13:53.063701Z",
     "start_time": "2024-09-28T14:13:53.057187Z"
    }
   },
   "cell_type": "code",
   "source": [
    "model_params_grid = {\n",
    "    \"MultinomialNB\": {\n",
    "        \"classifier\": MultinomialNB(),\n",
    "        \"param_grid\": {\n",
    "            \"alpha\": [0.001, 0.01, 0.1, 1.0],\n",
    "        }\n",
    "    },\n",
    "    \"LogisticRegression\": {\n",
    "        \"classifier\": LogisticRegression(multi_class=\"multinomial\", max_iter=1000),\n",
    "        \"param_grid\": {\n",
    "            \"tol\": [0.001, 0.01, 0.1, 1.0],\n",
    "            \"C\": [0.1, 1.0, 10.0],\n",
    "            \"solver\": [\"lbfgs\"],\n",
    "            \"penalty\": [\"l2\"], \n",
    "        }\n",
    "    },\n",
    "    \"DecisionTreeClassifier\": {\n",
    "        \"classifier\": DecisionTreeClassifier(),\n",
    "        \"param_grid\": {\n",
    "            \"max_depth\": [1, 2, 3, 4],\n",
    "        }\n",
    "    },\n",
    "    \"RandomForestClassifier\": {\n",
    "        \"classifier\": RandomForestClassifier(),\n",
    "        \"param_grid\": {\n",
    "            \"n_estimators\": [100, 200],\n",
    "            \"max_depth\": [1, 2, 3],\n",
    "        }\n",
    "    },\n",
    "    \"KNeighborsClassifier\": {\n",
    "        \"classifier\": KNeighborsClassifier(),\n",
    "        \"param_grid\": {\n",
    "            \"n_neighbors\": [1, 2, 3],\n",
    "            \"weights\": [\"uniform\", \"distance\"],\n",
    "        }\n",
    "    },\n",
    "    \"SGDClassifier\": {\n",
    "        \"classifier\": SGDClassifier(random_state=42, shuffle=True),\n",
    "        \"param_grid\": {\n",
    "            \"tol\": [0.001, 0.01, 0.1, 1.0],\n",
    "            \"alpha\": [0.0001, 0.001, 0.01],\n",
    "            \"penalty\": [\"l1\", \"l2\"],\n",
    "        }\n",
    "    },\n",
    "    \"SVC\": {\n",
    "        \"classifier\": SVC(),\n",
    "        \"param_grid\": {\n",
    "            \"tol\": [0.001, 0.01, 0.1, 1.0],\n",
    "            \"C\": [0.1, 1.0, 10.0],\n",
    "        }\n",
    "    }\n",
    "}\n"
   ],
   "id": "bc837a293c20995b",
   "outputs": [],
   "execution_count": 82
  },
  {
   "metadata": {
    "ExecuteTime": {
     "end_time": "2024-09-28T14:13:53.069714Z",
     "start_time": "2024-09-28T14:13:53.064712Z"
    }
   },
   "cell_type": "code",
   "source": [
    "x=df[['sepal length (cm)', 'sepal width (cm)', 'petal length (cm)',\n",
    "       'petal width (cm)']]\n",
    "y=df['target']"
   ],
   "id": "cefead05658582e6",
   "outputs": [],
   "execution_count": 83
  },
  {
   "metadata": {
    "ExecuteTime": {
     "end_time": "2024-09-28T14:13:53.087241Z",
     "start_time": "2024-09-28T14:13:53.083140Z"
    }
   },
   "cell_type": "code",
   "source": "x_train,x_test,y_train,y_test=train_test_split(x,y,test_size=0.2,random_state=42)",
   "id": "8a7bd12ba5974eee",
   "outputs": [],
   "execution_count": 84
  },
  {
   "metadata": {
    "ExecuteTime": {
     "end_time": "2024-09-28T14:13:58.074249Z",
     "start_time": "2024-09-28T14:13:53.109923Z"
    }
   },
   "cell_type": "code",
   "source": [
    "reseult=[]\n",
    "for item,items in model_params_grid.items():\n",
    "    gs=GridSearchCV(items[\"classifier\"],param_grid=items[\"param_grid\"],cv=5,scoring=\"accuracy\")\n",
    "    gs.fit(x_train,y_train)\n",
    "    accurcy=gs.score(x_test,y_test)\n",
    "    reseult.append({\n",
    "        \"model\":item,\n",
    "        \"best score\":gs.best_score_,\n",
    "        \"best params\":gs.best_params_,\n",
    "    })\n",
    "    "
   ],
   "id": "a79a82091115d856",
   "outputs": [],
   "execution_count": 85
  },
  {
   "metadata": {
    "ExecuteTime": {
     "end_time": "2024-09-28T14:13:58.085025Z",
     "start_time": "2024-09-28T14:13:58.075270Z"
    }
   },
   "cell_type": "code",
   "source": "pd.DataFrame(reseult,columns=[\"model\",\"best score\",\"best params\"])",
   "id": "d96e3a6b1d4436c5",
   "outputs": [
    {
     "data": {
      "text/plain": [
       "                    model  best score  \\\n",
       "0           MultinomialNB    0.933333   \n",
       "1      LogisticRegression    0.975000   \n",
       "2  DecisionTreeClassifier    0.941667   \n",
       "3  RandomForestClassifier    0.950000   \n",
       "4    KNeighborsClassifier    0.958333   \n",
       "5           SGDClassifier    0.941667   \n",
       "6                     SVC    0.950000   \n",
       "\n",
       "                                         best params  \n",
       "0                                   {'alpha': 0.001}  \n",
       "1  {'C': 10.0, 'penalty': 'l2', 'solver': 'lbfgs'...  \n",
       "2                                   {'max_depth': 4}  \n",
       "3              {'max_depth': 3, 'n_estimators': 100}  \n",
       "4           {'n_neighbors': 3, 'weights': 'uniform'}  \n",
       "5     {'alpha': 0.01, 'penalty': 'l1', 'tol': 0.001}  \n",
       "6                           {'C': 1.0, 'tol': 0.001}  "
      ],
      "text/html": [
       "<div>\n",
       "<style scoped>\n",
       "    .dataframe tbody tr th:only-of-type {\n",
       "        vertical-align: middle;\n",
       "    }\n",
       "\n",
       "    .dataframe tbody tr th {\n",
       "        vertical-align: top;\n",
       "    }\n",
       "\n",
       "    .dataframe thead th {\n",
       "        text-align: right;\n",
       "    }\n",
       "</style>\n",
       "<table border=\"1\" class=\"dataframe\">\n",
       "  <thead>\n",
       "    <tr style=\"text-align: right;\">\n",
       "      <th></th>\n",
       "      <th>model</th>\n",
       "      <th>best score</th>\n",
       "      <th>best params</th>\n",
       "    </tr>\n",
       "  </thead>\n",
       "  <tbody>\n",
       "    <tr>\n",
       "      <th>0</th>\n",
       "      <td>MultinomialNB</td>\n",
       "      <td>0.933333</td>\n",
       "      <td>{'alpha': 0.001}</td>\n",
       "    </tr>\n",
       "    <tr>\n",
       "      <th>1</th>\n",
       "      <td>LogisticRegression</td>\n",
       "      <td>0.975000</td>\n",
       "      <td>{'C': 10.0, 'penalty': 'l2', 'solver': 'lbfgs'...</td>\n",
       "    </tr>\n",
       "    <tr>\n",
       "      <th>2</th>\n",
       "      <td>DecisionTreeClassifier</td>\n",
       "      <td>0.941667</td>\n",
       "      <td>{'max_depth': 4}</td>\n",
       "    </tr>\n",
       "    <tr>\n",
       "      <th>3</th>\n",
       "      <td>RandomForestClassifier</td>\n",
       "      <td>0.950000</td>\n",
       "      <td>{'max_depth': 3, 'n_estimators': 100}</td>\n",
       "    </tr>\n",
       "    <tr>\n",
       "      <th>4</th>\n",
       "      <td>KNeighborsClassifier</td>\n",
       "      <td>0.958333</td>\n",
       "      <td>{'n_neighbors': 3, 'weights': 'uniform'}</td>\n",
       "    </tr>\n",
       "    <tr>\n",
       "      <th>5</th>\n",
       "      <td>SGDClassifier</td>\n",
       "      <td>0.941667</td>\n",
       "      <td>{'alpha': 0.01, 'penalty': 'l1', 'tol': 0.001}</td>\n",
       "    </tr>\n",
       "    <tr>\n",
       "      <th>6</th>\n",
       "      <td>SVC</td>\n",
       "      <td>0.950000</td>\n",
       "      <td>{'C': 1.0, 'tol': 0.001}</td>\n",
       "    </tr>\n",
       "  </tbody>\n",
       "</table>\n",
       "</div>"
      ]
     },
     "execution_count": 86,
     "metadata": {},
     "output_type": "execute_result"
    }
   ],
   "execution_count": 86
  },
  {
   "metadata": {},
   "cell_type": "markdown",
   "source": [
    "<h5> intercept </h5>\n",
    "<h6>    the best model in logistic regression  with 0.975 accurcy score    </h6>"
   ],
   "id": "80dd8ed4b20f588d"
  },
  {
   "metadata": {
    "ExecuteTime": {
     "end_time": "2024-09-28T14:13:59.847766Z",
     "start_time": "2024-09-28T14:13:58.085538Z"
    }
   },
   "cell_type": "code",
   "source": [
    "reseult=[]\n",
    "for item , items  in model_params_grid.items() :\n",
    "    rg=RandomizedSearchCV(items[\"classifier\"],param_distributions=items[\"param_grid\"],cv=5,scoring=\"accuracy\",n_iter=2,random_state=42)\n",
    "    rg.fit(x_train,y_train)\n",
    "    accurcy=rg.score(x_test,y_test)\n",
    "    reseult.append({\n",
    "        \"model\":item,\n",
    "        \"best score\":rg.best_score_,\n",
    "        \"best params\":rg.best_params_,\n",
    "    })\n"
   ],
   "id": "fd52f66aa65cabfc",
   "outputs": [],
   "execution_count": 87
  },
  {
   "metadata": {
    "ExecuteTime": {
     "end_time": "2024-09-28T14:13:59.856221Z",
     "start_time": "2024-09-28T14:13:59.848772Z"
    }
   },
   "cell_type": "code",
   "source": "pd.DataFrame(reseult,columns=[\"model\",\"best score\",\"best params\"])",
   "id": "a265a3a51dac0243",
   "outputs": [
    {
     "data": {
      "text/plain": [
       "                    model  best score  \\\n",
       "0           MultinomialNB    0.933333   \n",
       "1      LogisticRegression    0.941667   \n",
       "2  DecisionTreeClassifier    0.941667   \n",
       "3  RandomForestClassifier    0.933333   \n",
       "4    KNeighborsClassifier    0.950000   \n",
       "5           SGDClassifier    0.941667   \n",
       "6                     SVC    0.950000   \n",
       "\n",
       "                                         best params  \n",
       "0                                    {'alpha': 0.01}  \n",
       "1  {'tol': 0.1, 'solver': 'lbfgs', 'penalty': 'l2...  \n",
       "2                                   {'max_depth': 4}  \n",
       "3              {'n_estimators': 200, 'max_depth': 1}  \n",
       "4           {'weights': 'uniform', 'n_neighbors': 1}  \n",
       "5     {'tol': 0.001, 'penalty': 'l1', 'alpha': 0.01}  \n",
       "6                            {'tol': 0.1, 'C': 10.0}  "
      ],
      "text/html": [
       "<div>\n",
       "<style scoped>\n",
       "    .dataframe tbody tr th:only-of-type {\n",
       "        vertical-align: middle;\n",
       "    }\n",
       "\n",
       "    .dataframe tbody tr th {\n",
       "        vertical-align: top;\n",
       "    }\n",
       "\n",
       "    .dataframe thead th {\n",
       "        text-align: right;\n",
       "    }\n",
       "</style>\n",
       "<table border=\"1\" class=\"dataframe\">\n",
       "  <thead>\n",
       "    <tr style=\"text-align: right;\">\n",
       "      <th></th>\n",
       "      <th>model</th>\n",
       "      <th>best score</th>\n",
       "      <th>best params</th>\n",
       "    </tr>\n",
       "  </thead>\n",
       "  <tbody>\n",
       "    <tr>\n",
       "      <th>0</th>\n",
       "      <td>MultinomialNB</td>\n",
       "      <td>0.933333</td>\n",
       "      <td>{'alpha': 0.01}</td>\n",
       "    </tr>\n",
       "    <tr>\n",
       "      <th>1</th>\n",
       "      <td>LogisticRegression</td>\n",
       "      <td>0.941667</td>\n",
       "      <td>{'tol': 0.1, 'solver': 'lbfgs', 'penalty': 'l2...</td>\n",
       "    </tr>\n",
       "    <tr>\n",
       "      <th>2</th>\n",
       "      <td>DecisionTreeClassifier</td>\n",
       "      <td>0.941667</td>\n",
       "      <td>{'max_depth': 4}</td>\n",
       "    </tr>\n",
       "    <tr>\n",
       "      <th>3</th>\n",
       "      <td>RandomForestClassifier</td>\n",
       "      <td>0.933333</td>\n",
       "      <td>{'n_estimators': 200, 'max_depth': 1}</td>\n",
       "    </tr>\n",
       "    <tr>\n",
       "      <th>4</th>\n",
       "      <td>KNeighborsClassifier</td>\n",
       "      <td>0.950000</td>\n",
       "      <td>{'weights': 'uniform', 'n_neighbors': 1}</td>\n",
       "    </tr>\n",
       "    <tr>\n",
       "      <th>5</th>\n",
       "      <td>SGDClassifier</td>\n",
       "      <td>0.941667</td>\n",
       "      <td>{'tol': 0.001, 'penalty': 'l1', 'alpha': 0.01}</td>\n",
       "    </tr>\n",
       "    <tr>\n",
       "      <th>6</th>\n",
       "      <td>SVC</td>\n",
       "      <td>0.950000</td>\n",
       "      <td>{'tol': 0.1, 'C': 10.0}</td>\n",
       "    </tr>\n",
       "  </tbody>\n",
       "</table>\n",
       "</div>"
      ]
     },
     "execution_count": 88,
     "metadata": {},
     "output_type": "execute_result"
    }
   ],
   "execution_count": 88
  },
  {
   "metadata": {},
   "cell_type": "markdown",
   "source": [
    "<h5>  interception  </h5>\n",
    "<h6>  i have two best model KNeighborsClassifier and Svc with 0.95 accurcy score </h6>"
   ],
   "id": "809f416f74f79baf"
  },
  {
   "metadata": {
    "ExecuteTime": {
     "end_time": "2024-09-28T14:13:59.859717Z",
     "start_time": "2024-09-28T14:13:59.857230Z"
    }
   },
   "cell_type": "code",
   "source": "",
   "id": "7d35dc40b9b24d58",
   "outputs": [],
   "execution_count": 88
  }
 ],
 "metadata": {
  "kernelspec": {
   "display_name": "Python 3",
   "language": "python",
   "name": "python3"
  },
  "language_info": {
   "codemirror_mode": {
    "name": "ipython",
    "version": 2
   },
   "file_extension": ".py",
   "mimetype": "text/x-python",
   "name": "python",
   "nbconvert_exporter": "python",
   "pygments_lexer": "ipython2",
   "version": "2.7.6"
  }
 },
 "nbformat": 4,
 "nbformat_minor": 5
}
