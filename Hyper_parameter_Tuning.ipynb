{
 "cells": [
  {
   "cell_type": "code",
   "id": "initial_id",
   "metadata": {
    "collapsed": true,
    "ExecuteTime": {
     "end_time": "2024-09-28T13:21:17.462283Z",
     "start_time": "2024-09-28T13:21:17.458703Z"
    }
   },
   "source": [
    "from sklearn.model_selection import  RandomizedSearchCV, GridSearchCV,train_test_split\n",
    "from sklearn import datasets\n",
    "import pandas as pd\n",
    "from sklearn.linear_model import LogisticRegression\n",
    "from sklearn.naive_bayes import MultinomialNB\n",
    "from sklearn.svm import SVC\n",
    "from sklearn.tree import DecisionTreeClassifier\n",
    "from sklearn.ensemble import RandomForestClassifier\n",
    "from sklearn.neighbors import KNeighborsClassifier\n",
    "from sklearn.linear_model import SGDClassifier"
   ],
   "outputs": [],
   "execution_count": 25
  },
  {
   "metadata": {
    "ExecuteTime": {
     "end_time": "2024-09-28T13:21:17.470057Z",
     "start_time": "2024-09-28T13:21:17.463289Z"
    }
   },
   "cell_type": "code",
   "source": "iris = datasets.load_iris()",
   "id": "83f265db1b7ddce7",
   "outputs": [],
   "execution_count": 26
  },
  {
   "metadata": {
    "ExecuteTime": {
     "end_time": "2024-09-28T13:21:17.475792Z",
     "start_time": "2024-09-28T13:21:17.472066Z"
    }
   },
   "cell_type": "code",
   "source": [
    "df=pd.DataFrame(iris.data,columns=iris.feature_names)\n",
    "df['target'] = iris.target"
   ],
   "id": "769ce9f45c64fb66",
   "outputs": [],
   "execution_count": 27
  },
  {
   "metadata": {
    "ExecuteTime": {
     "end_time": "2024-09-28T13:21:17.486583Z",
     "start_time": "2024-09-28T13:21:17.476802Z"
    }
   },
   "cell_type": "code",
   "source": "df.head()",
   "id": "cf571d3da85ecd68",
   "outputs": [
    {
     "data": {
      "text/plain": [
       "   sepal length (cm)  sepal width (cm)  petal length (cm)  petal width (cm)  \\\n",
       "0                5.1               3.5                1.4               0.2   \n",
       "1                4.9               3.0                1.4               0.2   \n",
       "2                4.7               3.2                1.3               0.2   \n",
       "3                4.6               3.1                1.5               0.2   \n",
       "4                5.0               3.6                1.4               0.2   \n",
       "\n",
       "   target  \n",
       "0       0  \n",
       "1       0  \n",
       "2       0  \n",
       "3       0  \n",
       "4       0  "
      ],
      "text/html": [
       "<div>\n",
       "<style scoped>\n",
       "    .dataframe tbody tr th:only-of-type {\n",
       "        vertical-align: middle;\n",
       "    }\n",
       "\n",
       "    .dataframe tbody tr th {\n",
       "        vertical-align: top;\n",
       "    }\n",
       "\n",
       "    .dataframe thead th {\n",
       "        text-align: right;\n",
       "    }\n",
       "</style>\n",
       "<table border=\"1\" class=\"dataframe\">\n",
       "  <thead>\n",
       "    <tr style=\"text-align: right;\">\n",
       "      <th></th>\n",
       "      <th>sepal length (cm)</th>\n",
       "      <th>sepal width (cm)</th>\n",
       "      <th>petal length (cm)</th>\n",
       "      <th>petal width (cm)</th>\n",
       "      <th>target</th>\n",
       "    </tr>\n",
       "  </thead>\n",
       "  <tbody>\n",
       "    <tr>\n",
       "      <th>0</th>\n",
       "      <td>5.1</td>\n",
       "      <td>3.5</td>\n",
       "      <td>1.4</td>\n",
       "      <td>0.2</td>\n",
       "      <td>0</td>\n",
       "    </tr>\n",
       "    <tr>\n",
       "      <th>1</th>\n",
       "      <td>4.9</td>\n",
       "      <td>3.0</td>\n",
       "      <td>1.4</td>\n",
       "      <td>0.2</td>\n",
       "      <td>0</td>\n",
       "    </tr>\n",
       "    <tr>\n",
       "      <th>2</th>\n",
       "      <td>4.7</td>\n",
       "      <td>3.2</td>\n",
       "      <td>1.3</td>\n",
       "      <td>0.2</td>\n",
       "      <td>0</td>\n",
       "    </tr>\n",
       "    <tr>\n",
       "      <th>3</th>\n",
       "      <td>4.6</td>\n",
       "      <td>3.1</td>\n",
       "      <td>1.5</td>\n",
       "      <td>0.2</td>\n",
       "      <td>0</td>\n",
       "    </tr>\n",
       "    <tr>\n",
       "      <th>4</th>\n",
       "      <td>5.0</td>\n",
       "      <td>3.6</td>\n",
       "      <td>1.4</td>\n",
       "      <td>0.2</td>\n",
       "      <td>0</td>\n",
       "    </tr>\n",
       "  </tbody>\n",
       "</table>\n",
       "</div>"
      ]
     },
     "execution_count": 28,
     "metadata": {},
     "output_type": "execute_result"
    }
   ],
   "execution_count": 28
  },
  {
   "metadata": {
    "ExecuteTime": {
     "end_time": "2024-09-28T13:21:17.494082Z",
     "start_time": "2024-09-28T13:21:17.488591Z"
    }
   },
   "cell_type": "code",
   "source": [
    "model_params_grid = {\n",
    "    \"MultinomialNB\": {\n",
    "        \"classifier\": MultinomialNB(),\n",
    "        \"param_grid\": {\n",
    "            \"alpha\": [0.001, 0.01, 0.1, 1.0],\n",
    "        }\n",
    "    },\n",
    "    \"LogisticRegression\": {\n",
    "        \"classifier\": LogisticRegression(multi_class=\"multinomial\", max_iter=1000),\n",
    "        \"param_grid\": {\n",
    "            \"tol\": [0.001, 0.01, 0.1, 1.0],\n",
    "            \"C\": [0.1, 1.0, 10.0],\n",
    "            \"solver\": [\"lbfgs\"],\n",
    "            \"penalty\": [\"l2\"], \n",
    "        }\n",
    "    },\n",
    "    \"DecisionTreeClassifier\": {\n",
    "        \"classifier\": DecisionTreeClassifier(),\n",
    "        \"param_grid\": {\n",
    "            \"max_depth\": [1, 2, 3, 4],\n",
    "        }\n",
    "    },\n",
    "    \"RandomForestClassifier\": {\n",
    "        \"classifier\": RandomForestClassifier(),\n",
    "        \"param_grid\": {\n",
    "            \"n_estimators\": [100, 200],\n",
    "            \"max_depth\": [1, 2, 3],\n",
    "        }\n",
    "    },\n",
    "    \"KNeighborsClassifier\": {\n",
    "        \"classifier\": KNeighborsClassifier(),\n",
    "        \"param_grid\": {\n",
    "            \"n_neighbors\": [1, 2, 3],\n",
    "            \"weights\": [\"uniform\", \"distance\"],\n",
    "        }\n",
    "    },\n",
    "    \"SGDClassifier\": {\n",
    "        \"classifier\": SGDClassifier(random_state=42, shuffle=True),\n",
    "        \"param_grid\": {\n",
    "            \"tol\": [0.001, 0.01, 0.1, 1.0],\n",
    "            \"alpha\": [0.0001, 0.001, 0.01],\n",
    "            \"penalty\": [\"l1\", \"l2\"],\n",
    "        }\n",
    "    },\n",
    "    \"SVC\": {\n",
    "        \"classifier\": SVC(),\n",
    "        \"param_grid\": {\n",
    "            \"tol\": [0.001, 0.01, 0.1, 1.0],\n",
    "            \"C\": [0.1, 1.0, 10.0],\n",
    "        }\n",
    "    }\n",
    "}\n"
   ],
   "id": "bc837a293c20995b",
   "outputs": [],
   "execution_count": 29
  },
  {
   "metadata": {
    "ExecuteTime": {
     "end_time": "2024-09-28T13:21:17.500108Z",
     "start_time": "2024-09-28T13:21:17.495091Z"
    }
   },
   "cell_type": "code",
   "source": [
    "x=df[['sepal length (cm)', 'sepal width (cm)', 'petal length (cm)',\n",
    "       'petal width (cm)']]\n",
    "y=df['target']"
   ],
   "id": "cefead05658582e6",
   "outputs": [],
   "execution_count": 30
  },
  {
   "metadata": {
    "ExecuteTime": {
     "end_time": "2024-09-28T13:21:17.530166Z",
     "start_time": "2024-09-28T13:21:17.524116Z"
    }
   },
   "cell_type": "code",
   "source": "x_train,x_test,y_train,y_test=train_test_split(x,y,test_size=0.2,random_state=42)",
   "id": "8a7bd12ba5974eee",
   "outputs": [],
   "execution_count": 31
  },
  {
   "metadata": {
    "ExecuteTime": {
     "end_time": "2024-09-28T13:21:22.528532Z",
     "start_time": "2024-09-28T13:21:17.541179Z"
    }
   },
   "cell_type": "code",
   "source": [
    "reseult=[]\n",
    "for model in model_params_grid:\n",
    "    print(model_params_grid[model])\n",
    "    gs=GridSearchCV(model_params_grid[model][\"classifier\"],param_grid=model_params_grid[model][\"param_grid\"],cv=5,scoring=\"accuracy\")\n",
    "    gs.fit(x_train,y_train)\n",
    "    accurcy=gs.score(x_test,y_test)\n",
    "    reseult.append((model_params_grid[model][\"classifier\"],accurcy))\n",
    "    "
   ],
   "id": "a79a82091115d856",
   "outputs": [
    {
     "name": "stdout",
     "output_type": "stream",
     "text": [
      "{'classifier': MultinomialNB(), 'param_grid': {'alpha': [0.001, 0.01, 0.1, 1.0]}}\n",
      "{'classifier': LogisticRegression(max_iter=1000, multi_class='multinomial'), 'param_grid': {'tol': [0.001, 0.01, 0.1, 1.0], 'C': [0.1, 1.0, 10.0], 'solver': ['lbfgs'], 'penalty': ['l2']}}\n",
      "{'classifier': DecisionTreeClassifier(), 'param_grid': {'max_depth': [1, 2, 3, 4]}}\n",
      "{'classifier': RandomForestClassifier(), 'param_grid': {'n_estimators': [100, 200], 'max_depth': [1, 2, 3]}}\n",
      "{'classifier': KNeighborsClassifier(), 'param_grid': {'n_neighbors': [1, 2, 3], 'weights': ['uniform', 'distance']}}\n",
      "{'classifier': SGDClassifier(random_state=42), 'param_grid': {'tol': [0.001, 0.01, 0.1, 1.0], 'alpha': [0.0001, 0.001, 0.01], 'penalty': ['l1', 'l2']}}\n",
      "{'classifier': SVC(), 'param_grid': {'tol': [0.001, 0.01, 0.1, 1.0], 'C': [0.1, 1.0, 10.0]}}\n"
     ]
    }
   ],
   "execution_count": 32
  },
  {
   "metadata": {
    "ExecuteTime": {
     "end_time": "2024-09-28T13:21:22.535777Z",
     "start_time": "2024-09-28T13:21:22.529537Z"
    }
   },
   "cell_type": "code",
   "source": "reseult",
   "id": "d96e3a6b1d4436c5",
   "outputs": [
    {
     "data": {
      "text/plain": [
       "[(MultinomialNB(), 0.9333333333333333),\n",
       " (LogisticRegression(max_iter=1000, multi_class='multinomial'), 1.0),\n",
       " (DecisionTreeClassifier(), 1.0),\n",
       " (RandomForestClassifier(), 1.0),\n",
       " (KNeighborsClassifier(), 1.0),\n",
       " (SGDClassifier(random_state=42), 1.0),\n",
       " (SVC(), 1.0)]"
      ]
     },
     "execution_count": 33,
     "metadata": {},
     "output_type": "execute_result"
    }
   ],
   "execution_count": 33
  },
  {
   "metadata": {
    "ExecuteTime": {
     "end_time": "2024-09-28T13:21:24.082256Z",
     "start_time": "2024-09-28T13:21:22.536289Z"
    }
   },
   "cell_type": "code",
   "source": [
    "reseult=[]\n",
    "for model in model_params_grid:\n",
    "    rg=RandomizedSearchCV(model_params_grid[model][\"classifier\"],param_distributions=model_params_grid[model][\"param_grid\"],cv=5,scoring=\"accuracy\",n_iter=2,random_state=42)\n",
    "    rg.fit(x_train,y_train)\n",
    "    accurcy=rg.score(x_test,y_test)\n",
    "    reseult.append((model_params_grid[model][\"classifier\"],accurcy))\n"
   ],
   "id": "fd52f66aa65cabfc",
   "outputs": [],
   "execution_count": 34
  },
  {
   "metadata": {
    "ExecuteTime": {
     "end_time": "2024-09-28T13:21:24.089741Z",
     "start_time": "2024-09-28T13:21:24.083764Z"
    }
   },
   "cell_type": "code",
   "source": "reseult",
   "id": "a265a3a51dac0243",
   "outputs": [
    {
     "data": {
      "text/plain": [
       "[(MultinomialNB(), 0.9333333333333333),\n",
       " (LogisticRegression(max_iter=1000, multi_class='multinomial'), 1.0),\n",
       " (DecisionTreeClassifier(), 1.0),\n",
       " (RandomForestClassifier(), 1.0),\n",
       " (KNeighborsClassifier(), 1.0),\n",
       " (SGDClassifier(random_state=42), 1.0),\n",
       " (SVC(), 1.0)]"
      ]
     },
     "execution_count": 35,
     "metadata": {},
     "output_type": "execute_result"
    }
   ],
   "execution_count": 35
  },
  {
   "metadata": {
    "ExecuteTime": {
     "end_time": "2024-09-28T13:21:24.093460Z",
     "start_time": "2024-09-28T13:21:24.090748Z"
    }
   },
   "cell_type": "code",
   "source": "",
   "id": "1e5e23bbcbbee366",
   "outputs": [],
   "execution_count": 35
  }
 ],
 "metadata": {
  "kernelspec": {
   "display_name": "Python 3",
   "language": "python",
   "name": "python3"
  },
  "language_info": {
   "codemirror_mode": {
    "name": "ipython",
    "version": 2
   },
   "file_extension": ".py",
   "mimetype": "text/x-python",
   "name": "python",
   "nbconvert_exporter": "python",
   "pygments_lexer": "ipython2",
   "version": "2.7.6"
  }
 },
 "nbformat": 4,
 "nbformat_minor": 5
}
